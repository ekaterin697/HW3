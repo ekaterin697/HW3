{
 "cells": [
  {
   "cell_type": "code",
   "execution_count": 3,
   "metadata": {},
   "outputs": [],
   "source": [
    "import numpy as np\n",
    "import matplotlib.pyplot as plt\n",
    "import matplotlib.patches as patches"
   ]
  },
  {
   "cell_type": "code",
   "execution_count": 4,
   "metadata": {},
   "outputs": [
    {
     "data": {
      "image/png": "[encoded data removed]",
      "text/plain": [
       "<Figure size 576x432 with 1 Axes>"
      ]
     },
     "metadata": {
      "needs_background": "light"
     },
     "output_type": "display_data"
    }
   ],
   "source": [
    "fig = plt.figure(figsize=(8,6))\n",
    "\n",
    "ax = fig.add_axes([0, 0, 1.5, 1], frameon=True, aspect=0.5)\n",
    "ax.set_aspect(1)\n",
    "\n",
    "plt.axhline(linewidth=1, color='#000000', y=25,xmin=0.1, xmax=0.2)\n",
    "plt.axhline(linewidth=1, color='#000000', y=25,xmin=0.5, xmax=0.7)\n",
    "\n",
    "plt.arrow(8, 25, 12, 0,width=1.2, length_includes_head=True,\n",
    "          head_width=2.2, head_length=2.4, color='#000000',fill=0)\n",
    "plt.arrow(8, 26.2, 2.4, 0,width=0.1, length_includes_head=True,\n",
    "          head_width=0.3, head_length=0.2, color='#000000',fill=0)\n",
    "          \n",
    "plt.arrow(12, 23.5, -2.4, 0,width=0.1, length_includes_head=True,\n",
    "head_width=0.3, head_length=0.2, color='#000000',fill=0)\n",
    "\n",
    "plt.arrow(13.5, 22, -2.4, 0,width=0.1, length_includes_head=True,\n",
    "head_width=0.3, head_length=0.2, color='#000000',fill=0)\n",
    "\n",
    "plt.arrow(12, 20, -0.0, -2.2,width=0.01, length_includes_head=True,\n",
    "head_width=0.2, head_length=0.3, color='#000000',fill=0)\n",
    "\n",
    "plt.arrow(8, 16, 7, 0,width=1, length_includes_head=True,\n",
    "          head_width=1.8, head_length=1.6, color='#000000',fill=0)\n",
    "          \n",
    "plt.arrow(8, 14, 9, 0,width=1, length_includes_head=True,\n",
    "          head_width=2.0, head_length=1.9, color='#000000',fill=0) \n",
    "plt.arrow(12, 13, -0.0, -2.2,width=0.01, length_includes_head=True,\n",
    "head_width=0.2, head_length=0.3, color='#000000',fill=0)          \n",
    "          \n",
    "plt.axhline(linewidth=1, color='#000000', y=9,xmin=0.1, xmax=0.2)\n",
    "plt.axhline(linewidth=1, color='#000000', y=9,xmin=0.5, xmax=0.7)   \n",
    "\n",
    "plt.arrow(9, 9, 5.5, 0,width=0.6, length_includes_head=True,\n",
    "          head_width=1.1, head_length=1.4, color='#000000',fill=0)\n",
    "\n",
    "plt.arrow(20, 9, -5.5, 0,width=0.6, length_includes_head=True,\n",
    "          head_width=1.1, head_length=1.4, color='#000000',fill=0)\n",
    "\n",
    "\n",
    "rect = patches.Rectangle((8,8.7),1,0.7,linewidth=1,edgecolor='k',facecolor='none')\n",
    "\n",
    "\n",
    "ax.add_patch(rect)\n",
    "\n",
    "plt.arrow(12, 7, -0.0, -2.2,width=0.01, length_includes_head=True,\n",
    "head_width=0.2, head_length=0.3, color='#000000',fill=0) \n",
    "\n",
    "a_circle = plt.Circle((15.5, 3), 0.8,color='k', fill=0)\n",
    "ax.add_artist(a_circle)\n",
    "\n",
    "rect2 = patches.Rectangle((9,2.5),5.65,1,linewidth=1,edgecolor='k',facecolor='none')\n",
    "\n",
    "ax.add_patch(rect2)\n",
    "\n",
    "\n",
    "for i in range(0, 56, 2):\n",
    "    i = i/10\n",
    "    plt.axvline(linewidth=1, color='#000000', x=9+i,ymin=0.085, ymax=0.117)\n",
    "\n",
    "\n",
    "\n",
    "\n",
    "plt.axis([0, 40, 0, 30])\n",
    "plt.show()"
   ]
  },
  {
   "cell_type": "code",
   "execution_count": null,
   "metadata": {},
   "outputs": [],
   "source": []
  }
 ],
 "metadata": {
  "kernelspec": {
   "display_name": "Python 3",
   "language": "python",
   "name": "python3"
  },
  "language_info": {
   "codemirror_mode": {
    "name": "ipython",
    "version": 3
   },
   "file_extension": ".py",
   "mimetype": "text/x-python",
   "name": "python",
   "nbconvert_exporter": "python",
   "pygments_lexer": "ipython3",
   "version": "3.7.1"
  }
 },
 "nbformat": 4,
 "nbformat_minor": 2
}
